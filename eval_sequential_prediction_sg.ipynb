{
 "cells": [
  {
   "cell_type": "code",
   "execution_count": 1,
   "id": "6ad37128",
   "metadata": {},
   "outputs": [
    {
     "data": {
      "text/plain": [
       "<Figure size 432x288 with 0 Axes>"
      ]
     },
     "metadata": {},
     "output_type": "display_data"
    }
   ],
   "source": [
    "import numpy as np\n",
    "import matplotlib.pyplot as plt\n",
    "import matplotlib as mpl\n",
    "import matplotlib.patches as patches\n",
    "import glob\n",
    "import os\n",
    "from utility import *\n",
    "from UnitGaussianNormalizer import *\n",
    "import torch.nn.functional as F\n",
    "import torch\n",
    "from CustomDataset import *\n",
    "import pickle\n",
    "from FNO4D import *\n",
    "import json\n",
    "from visulization_compare import *\n",
    "plt.jet()"
   ]
  },
  {
   "cell_type": "code",
   "execution_count": 5,
   "id": "65a3f6e4",
   "metadata": {},
   "outputs": [
    {
     "name": "stdout",
     "output_type": "stream",
     "text": [
      "dict_keys(['input', 'output'])\n",
      "dict_keys(['GLOBAL', 'LGR1']) dict_keys(['GLOBAL', 'LGR1'])\n"
     ]
    }
   ],
   "source": [
    "NORMALIZER_DICT = {}\n",
    "d_in, d_out = {}, {}\n",
    "for key in ['GLOBAL', 'LGR1']:\n",
    "    with open(f\"normalizer/input_normalizer_{key}_DP_val.pickle\", 'rb') as f:\n",
    "        input_normalizer = pickle.load(f)\n",
    "    with open(f\"normalizer/output_normalizer_{key}_DP_val.pickle\", 'rb') as f:\n",
    "        output_normalizer = pickle.load(f)\n",
    "    input_normalizer.cuda()\n",
    "    output_normalizer.cuda()\n",
    "    d_in[key] = input_normalizer\n",
    "    d_out[key] = output_normalizer\n",
    "NORMALIZER_DICT['input'] = d_in\n",
    "NORMALIZER_DICT['output'] = d_out\n",
    "\n",
    "print(NORMALIZER_DICT.keys())\n",
    "print(NORMALIZER_DICT['input'].keys(), NORMALIZER_DICT['output'].keys())"
   ]
  },
  {
   "cell_type": "code",
   "execution_count": 6,
   "id": "a161d740",
   "metadata": {},
   "outputs": [
    {
     "name": "stdout",
     "output_type": "stream",
     "text": [
      "dict_keys(['GLOBAL', 'LGR1', 'LGR2', 'LGR3', 'LGR4'])\n"
     ]
    }
   ],
   "source": [
    "PATH = {}\n",
    "PATH['GLOBAL'] = \"pre_trained_models/FNO4D-GLOBAL-DP.pt\"\n",
    "PATH['LGR1'] = \"pre_trained_models/FNO4D-LGR1-SG.pt\"\n",
    "PATH['LGR2'] = \"pre_trained_models/FNO4D-LGR2-SG.pt\"\n",
    "PATH['LGR3'] = \"pre_trained_models/FNO4D-LGR3-SG.pt\"\n",
    "PATH['LGR4'] = \"pre_trained_models/FNO4D-LGR4-SG.pt\"\n",
    "device = torch.device('cuda')\n",
    "\n",
    "MODEL_DICT = {}\n",
    "for key in ['GLOBAL', 'LGR1', 'LGR2', 'LGR3', 'LGR4']:\n",
    "    model = torch.load(PATH[key])\n",
    "    model.to(device)\n",
    "    model.eval()\n",
    "    MODEL_DICT[key] = model\n",
    "    \n",
    "print(MODEL_DICT.keys())"
   ]
  },
  {
   "cell_type": "code",
   "execution_count": 7,
   "id": "f2c55d26",
   "metadata": {},
   "outputs": [
    {
     "name": "stdout",
     "output_type": "stream",
     "text": [
      "16 2 2\n"
     ]
    }
   ],
   "source": [
    "DATA_LOADER_DICT = torch.load('DATA_LOADER_DICT.pth')\n",
    "train_loader = DATA_LOADER_DICT['GLOBAL']['train']\n",
    "val_loader = DATA_LOADER_DICT['GLOBAL']['val']\n",
    "test_loader = DATA_LOADER_DICT['GLOBAL']['test']\n",
    "n_train = len(train_loader)\n",
    "n_val = len(val_loader)\n",
    "n_test = len(test_loader)\n",
    "print(n_train, n_val, n_test)"
   ]
  },
  {
   "cell_type": "code",
   "execution_count": 8,
   "id": "97681fb0",
   "metadata": {},
   "outputs": [],
   "source": [
    "def plot_z_comparison():\n",
    "    plt.figure(figsize=(10,4.2))\n",
    "    z=0\n",
    "    t = 24\n",
    "    cmin, cmax = 0, 1\n",
    "    margin = 40000\n",
    "    plt.subplot(1,2,1)\n",
    "    plot_z_slice(z=z,WELL_LIST=WELL_LIST, LGR_LIST=meta_data[f'case_{idx}']['LGR_LIST'],\n",
    "                 PCOLOR_GRID_DICT = meta_data[f'case_{idx}']['PCOLOR_GRID_DICT'],\n",
    "                 GRID_IDX_DICT=meta_data[f'case_{idx}']['GRID_IDX_DICT'],\n",
    "                 OUTPUT_DICT=dict_convert_torch_to_numpy(TRUE),\n",
    "                 cmin=cmin,cmax=cmax,\n",
    "                 xmin=0+margin,xmax=160000-margin,\n",
    "                 ymin=0+margin,ymax=160000-margin,\n",
    "                 grid_on=False, title=f'True',boundary_on=True)\n",
    "\n",
    "    plt.subplot(1,2,2)\n",
    "    plot_z_slice(z=z,WELL_LIST=WELL_LIST, LGR_LIST=meta_data[f'case_{idx}']['LGR_LIST'],\n",
    "                 PCOLOR_GRID_DICT = meta_data[f'case_{idx}']['PCOLOR_GRID_DICT'],\n",
    "                 GRID_IDX_DICT=meta_data[f'case_{idx}']['GRID_IDX_DICT'],\n",
    "                 OUTPUT_DICT=dict_convert_torch_to_numpy(PRED),\n",
    "                 cmin=cmin,cmax=cmax,\n",
    "                 xmin=0+margin,xmax=160000-margin,\n",
    "                 ymin=0+margin,ymax=160000-margin,\n",
    "                 grid_on=False, title=f'Pred',boundary_on=True)\n",
    "\n",
    "    plt.tight_layout()\n",
    "    plt.show()"
   ]
  },
  {
   "cell_type": "code",
   "execution_count": 9,
   "id": "f202b30f",
   "metadata": {},
   "outputs": [],
   "source": [
    "def plot_x_comparison():\n",
    "    for well in WELL_LIST:\n",
    "        plt.figure(figsize=(10,1.5))\n",
    "        z=0\n",
    "        t = 24\n",
    "        cmin, cmax = 0, 1\n",
    "        x, y = meta_data[f'case_{idx}']['INJ_LOCATION_DICT'][well][0], meta_data[f'case_{idx}']['INJ_LOCATION_DICT'][well][1]\n",
    "        plt.subplot(1,2,1)\n",
    "        plot_x_slice(x=x, WELL_LIST=WELL_LIST, LGR_LIST=meta_data[f'case_{idx}']['LGR_LIST'],\n",
    "                     PCOLOR_GRID_DICT = meta_data[f'case_{idx}']['PCOLOR_GRID_DICT'],\n",
    "                     GRID_IDX_DICT=meta_data[f'case_{idx}']['GRID_IDX_DICT'],\n",
    "                     OUTPUT_DICT=dict_convert_torch_to_numpy(TRUE),\n",
    "                     cmin=cmin,cmax=cmax,\n",
    "                     xmin=y-4000,xmax=y+4000,\n",
    "                     ymin=0,ymax=100,\n",
    "                     title=f', {well}, True',boundary_on=True)\n",
    "        plt.subplot(1,2,2)\n",
    "        plot_x_slice(x=x, WELL_LIST=WELL_LIST, LGR_LIST=meta_data[f'case_{idx}']['LGR_LIST'],\n",
    "                     PCOLOR_GRID_DICT = meta_data[f'case_{idx}']['PCOLOR_GRID_DICT'],\n",
    "                     GRID_IDX_DICT=meta_data[f'case_{idx}']['GRID_IDX_DICT'],\n",
    "                     OUTPUT_DICT=dict_convert_torch_to_numpy(PRED),\n",
    "                     cmin=cmin,cmax=cmax,\n",
    "                     xmin=y-4000,xmax=y+4000,\n",
    "                     ymin=0,ymax=100,\n",
    "                     title=f', {well}, Pred',boundary_on=True)\n",
    "        plt.tight_layout()\n",
    "        plt.show()"
   ]
  },
  {
   "cell_type": "code",
   "execution_count": 48,
   "id": "728cd083",
   "metadata": {},
   "outputs": [],
   "source": [
    "import time\n",
    "\n",
    "it = iter(train_loader)\n",
    "t1, t2, t3, t4 = [], [], [], []\n",
    "\n",
    "for counter in range(16):\n",
    "    with torch.no_grad():\n",
    "        PRED, TRUE = {}, {}\n",
    "        data = next(it)\n",
    "        x, y, path = data['x'], data['y'], data['path']\n",
    "        x, y = x[None,...].to(device), y[None,...]\n",
    "        x[...,-1:] = NORMALIZER_DICT['input']['GLOBAL'].encode(x.to(device)[...,-1:])\n",
    "        pred = NORMALIZER_DICT['output']['GLOBAL'].decode(MODEL_DICT['GLOBAL'](x)).cpu()\n",
    "        PRED['GLOBAL'] = pred\n",
    "        TRUE['GLOBAL'] = y\n",
    "        slope, idx, well = path[0], path[1], path[2]\n",
    "\n",
    "        meta_data = np.load(f'ECLIPSE/meta_data/{slope}_{idx}.npy', allow_pickle=True).tolist()\n",
    "        WELL_LIST = meta_data[f'case_{idx}']['WELL_LIST']\n",
    "        GRID_IDX_DICT = meta_data[f'case_{idx}']['GRID_IDX_DICT']\n",
    "\n",
    "        for well in WELL_LIST:\n",
    "            lgr_dict, true_dict = {}, {}\n",
    "\n",
    "            data_LGR1 = torch.load(f'dataset/SG_LGR1/{slope}_{idx}_LGR1_{well}_SG.pt')\n",
    "            I1, I2 = GRID_IDX_DICT[well]['LGR1']['I1']-1-15, GRID_IDX_DICT[well]['LGR1']['I2']+15\n",
    "            J1, J2 = GRID_IDX_DICT[well]['LGR1']['J1']-1-15, GRID_IDX_DICT[well]['LGR1']['J2']+15\n",
    "            coarse = np.repeat(PRED['GLOBAL'][0,...][:,I1:I2,J1:J2,:,:],5,axis=-2).permute(-1,1,2,3,0)[...,None]\n",
    "            x_LGR1 = torch.cat((data_LGR1['input'][...,:-1],coarse),axis=-1)\n",
    "            x_LGR1 = x_LGR1.permute(0,4,1,2,3,5).to(device)\n",
    "            x_LGR1[...,-1:] = NORMALIZER_DICT['input']['LGR1'].encode(x_LGR1.to(device)[...,-1:])\n",
    "            start = time.time()\n",
    "            pred = MODEL_DICT['LGR1'](x_LGR1)\n",
    "            end = time.time()\n",
    "            t1.append(end-start)\n",
    "            pred = pred.cpu()\n",
    "            lgr_dict['LGR1'] = pred\n",
    "            y = data_LGR1['output'][...,:1].permute(0,4,1,2,3,5)\n",
    "            true_dict['LGR1'] = y\n",
    "\n",
    "            data_LGR2 = torch.load(f'dataset/SG_LGR2/{slope}_{idx}_LGR2_{well}_SG.pt')\n",
    "            coarse = np.repeat(lgr_dict['LGR1'][0,...],2,axis=-2).permute(-1,1,2,3,0)[...,None]\n",
    "            x_LGR2 = torch.cat((data_LGR2['input'][...,:-1],coarse),axis=-1)\n",
    "            x_LGR2 = x_LGR2.permute(0,4,1,2,3,5).to(device)\n",
    "            start = time.time()\n",
    "            pred = MODEL_DICT['LGR2'](x_LGR2)\n",
    "            end = time.time()\n",
    "            t2.append(end-start)\n",
    "            pred = pred.cpu()\n",
    "            lgr_dict['LGR2'] = pred\n",
    "            y = data_LGR2['output'][...,:1].permute(0,4,1,2,3,5)\n",
    "            true_dict['LGR2'] = y\n",
    "\n",
    "            data_LGR3 = torch.load(f'dataset/SG_LGR3/{slope}_{idx}_LGR3_{well}_SG.pt')\n",
    "            coarse = lgr_dict['LGR2'][0,...].permute(-1,1,2,3,0)[...,None]\n",
    "            x_LGR3 = torch.cat((data_LGR3['input'][...,:-1],coarse),axis=-1)\n",
    "            x_LGR3 = x_LGR3.permute(0,4,1,2,3,5).to(device)\n",
    "            start = time.time()\n",
    "            pred = MODEL_DICT['LGR3'](x_LGR3)\n",
    "            end = time.time()\n",
    "            t3.append(end-start)\n",
    "            pred = pred.cpu()\n",
    "            lgr_dict['LGR3'] = pred\n",
    "            y = data_LGR3['output'][...,:1].permute(0,4,1,2,3,5)\n",
    "            true_dict['LGR3'] = y\n",
    "\n",
    "            data_LGR4 = torch.load(f'dataset/SG_LGR4/{slope}_{idx}_LGR4_{well}_SG.pt')\n",
    "            coarse = lgr_dict['LGR3'][0,...].permute(-1,1,2,3,0)[...,None]\n",
    "            x = data_LGR4['input']\n",
    "            x_LGR4 = torch.cat((x[...,:-1],coarse),axis=-1)\n",
    "            x_LGR4 = x_LGR4.permute(0,4,1,2,3,5).to(device)\n",
    "            start = time.time()\n",
    "            pred = MODEL_DICT['LGR4'](x_LGR4)\n",
    "            end = time.time()\n",
    "            t4.append(end-start)\n",
    "            pred = pred.cpu()\n",
    "            lgr_dict['LGR4'] = pred\n",
    "            y = data_LGR4['output'][...,:1].permute(0,4,1,2,3,5)\n",
    "            true_dict['LGR4'] = y\n",
    "\n",
    "            PRED[well] = lgr_dict\n",
    "            TRUE[well] = true_dict\n",
    "            \n",
    "        PRED['GLOBAL'] *= 0\n",
    "        TRUE['GLOBAL'] *= 0\n",
    "        \n",
    "#         plot_z_comparison()\n",
    "#         plot_x_comparison()\n"
   ]
  },
  {
   "cell_type": "code",
   "execution_count": 51,
   "id": "3e63b1c3",
   "metadata": {},
   "outputs": [
    {
     "data": {
      "text/plain": [
       "(0.0055252105690712155, 9.118637366232697e-05)"
      ]
     },
     "execution_count": 51,
     "metadata": {},
     "output_type": "execute_result"
    }
   ],
   "source": [
    "np.array([t1, t2, t3, t4]).mean(), np.array([t1, t2, t3, t4]).std()"
   ]
  },
  {
   "cell_type": "code",
   "execution_count": null,
   "id": "174e7887",
   "metadata": {},
   "outputs": [],
   "source": []
  },
  {
   "cell_type": "code",
   "execution_count": null,
   "id": "eb4b6be9",
   "metadata": {},
   "outputs": [],
   "source": []
  }
 ],
 "metadata": {
  "kernelspec": {
   "display_name": "Python 3",
   "language": "python",
   "name": "python3"
  },
  "language_info": {
   "codemirror_mode": {
    "name": "ipython",
    "version": 3
   },
   "file_extension": ".py",
   "mimetype": "text/x-python",
   "name": "python",
   "nbconvert_exporter": "python",
   "pygments_lexer": "ipython3",
   "version": "3.9.0"
  }
 },
 "nbformat": 4,
 "nbformat_minor": 5
}
