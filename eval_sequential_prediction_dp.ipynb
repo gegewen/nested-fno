{
 "cells": [
  {
   "cell_type": "code",
   "execution_count": 1,
   "id": "6ad37128",
   "metadata": {},
   "outputs": [
    {
     "data": {
      "text/plain": [
       "<Figure size 432x288 with 0 Axes>"
      ]
     },
     "metadata": {},
     "output_type": "display_data"
    }
   ],
   "source": [
    "import numpy as np\n",
    "import matplotlib.pyplot as plt\n",
    "import matplotlib as mpl\n",
    "import matplotlib.patches as patches\n",
    "import glob\n",
    "import os\n",
    "from utility import *\n",
    "from UnitGaussianNormalizer import *\n",
    "import torch.nn.functional as F\n",
    "import torch\n",
    "from CustomDataset import *\n",
    "import pickle\n",
    "from FNO4D import *\n",
    "import json\n",
    "from visulization_compare import *\n",
    "plt.jet()"
   ]
  },
  {
   "cell_type": "code",
   "execution_count": 2,
   "id": "0bfb635f",
   "metadata": {},
   "outputs": [],
   "source": [
    "def print_gpu_memory_usage():\n",
    "    print(f\"Allocated: {torch.cuda.memory_allocated() / 1024 ** 2:.2f} MB\")\n",
    "    print(f\"Cached:    {torch.cuda.memory_reserved() / 1024 ** 2:.2f} MB\")"
   ]
  },
  {
   "cell_type": "code",
   "execution_count": 3,
   "id": "65a3f6e4",
   "metadata": {},
   "outputs": [
    {
     "name": "stdout",
     "output_type": "stream",
     "text": [
      "dict_keys(['input', 'output'])\n",
      "dict_keys(['GLOBAL', 'LGR1', 'LGR2', 'LGR3', 'LGR4']) dict_keys(['GLOBAL', 'LGR1', 'LGR2', 'LGR3', 'LGR4'])\n"
     ]
    }
   ],
   "source": [
    "NORMALIZER_DICT = {}\n",
    "d_in, d_out = {}, {}\n",
    "for key in ['GLOBAL', 'LGR1', 'LGR2', 'LGR3', 'LGR4']:\n",
    "    with open(f\"normalizer/input_normalizer_{key}_DP_val.pickle\", 'rb') as f:\n",
    "        input_normalizer = pickle.load(f)\n",
    "    with open(f\"normalizer/output_normalizer_{key}_DP_val.pickle\", 'rb') as f:\n",
    "        output_normalizer = pickle.load(f)\n",
    "    input_normalizer.cuda()\n",
    "    output_normalizer.cuda()\n",
    "    d_in[key] = input_normalizer\n",
    "    d_out[key] = output_normalizer\n",
    "NORMALIZER_DICT['input'] = d_in\n",
    "NORMALIZER_DICT['output'] = d_out\n",
    "\n",
    "print(NORMALIZER_DICT.keys())\n",
    "print(NORMALIZER_DICT['input'].keys(), NORMALIZER_DICT['output'].keys())"
   ]
  },
  {
   "cell_type": "code",
   "execution_count": 4,
   "id": "3bf2d974",
   "metadata": {},
   "outputs": [
    {
     "name": "stdout",
     "output_type": "stream",
     "text": [
      "Allocated: 0.01 MB\n",
      "Cached:    2.00 MB\n"
     ]
    }
   ],
   "source": [
    "print_gpu_memory_usage()"
   ]
  },
  {
   "cell_type": "code",
   "execution_count": 41,
   "id": "a161d740",
   "metadata": {},
   "outputs": [
    {
     "name": "stdout",
     "output_type": "stream",
     "text": [
      "dict_keys(['GLOBAL', 'LGR1', 'LGR2', 'LGR3', 'LGR4'])\n"
     ]
    }
   ],
   "source": [
    "PATH = {}\n",
    "PATH['GLOBAL'] = \"pre_trained_models/FNO4D-GLOBAL-DP.pt\"\n",
    "PATH['LGR1'] = \"pre_trained_models/FNO4D-LGR1-DP.pt\"\n",
    "PATH['LGR2'] = \"pre_trained_models/FNO4D-LGR2-DP.pt\"\n",
    "PATH['LGR3'] = \"pre_trained_models/FNO4D-LGR3-DP.pt\"\n",
    "PATH['LGR4'] = \"pre_trained_models/FNO4D-LGR4-DP.pt\"\n",
    "device = torch.device('cuda')\n",
    "\n",
    "MODEL_DICT = {}\n",
    "for key in ['GLOBAL', 'LGR1', 'LGR2', 'LGR3', 'LGR4']:\n",
    "    model = torch.load(PATH[key])\n",
    "    model.eval()\n",
    "    model.to(device)\n",
    "    torch.cuda.empty_cache()\n",
    "    MODEL_DICT[key] = model\n",
    "    \n",
    "print(MODEL_DICT.keys())"
   ]
  },
  {
   "cell_type": "code",
   "execution_count": 10,
   "id": "44a4536a",
   "metadata": {},
   "outputs": [
    {
     "name": "stdout",
     "output_type": "stream",
     "text": [
      "Allocated: 5248.16 MB\n",
      "Cached:    5250.00 MB\n"
     ]
    }
   ],
   "source": [
    "print_gpu_memory_usage()"
   ]
  },
  {
   "cell_type": "code",
   "execution_count": 11,
   "id": "f2c55d26",
   "metadata": {},
   "outputs": [
    {
     "name": "stdout",
     "output_type": "stream",
     "text": [
      "16 2 2\n"
     ]
    }
   ],
   "source": [
    "DATA_LOADER_DICT = torch.load('DATA_LOADER_DICT.pth')\n",
    "train_loader = DATA_LOADER_DICT['GLOBAL']['train']\n",
    "val_loader = DATA_LOADER_DICT['GLOBAL']['val']\n",
    "test_loader = DATA_LOADER_DICT['GLOBAL']['test']\n",
    "n_train = len(train_loader)\n",
    "n_val = len(val_loader)\n",
    "n_test = len(test_loader)\n",
    "print(n_train, n_val, n_test)"
   ]
  },
  {
   "cell_type": "code",
   "execution_count": 12,
   "id": "97681fb0",
   "metadata": {},
   "outputs": [],
   "source": [
    "def plot_z_comparison():\n",
    "    plt.figure(figsize=(10,4.2))\n",
    "    z=0\n",
    "    t = 24\n",
    "    cmin, cmax = 0, 10\n",
    "\n",
    "    plt.jet()\n",
    "    plt.subplot(1,2,1)\n",
    "    plot_z_slice(z=z,WELL_LIST=WELL_LIST, LGR_LIST=meta_data[f'case_{idx}']['LGR_LIST'],\n",
    "                 PCOLOR_GRID_DICT = meta_data[f'case_{idx}']['PCOLOR_GRID_DICT'],\n",
    "                 GRID_IDX_DICT=meta_data[f'case_{idx}']['GRID_IDX_DICT'],\n",
    "                 OUTPUT_DICT=dict_convert_torch_to_numpy(TRUE),\n",
    "                 cmin=cmin,cmax=cmax,\n",
    "                 xmin=0,xmax=160000,\n",
    "                 ymin=0,ymax=160000,\n",
    "                 grid_on=False, title=f'True',boundary_on=True)\n",
    "\n",
    "    plt.subplot(1,2,2)\n",
    "    plot_z_slice(z=z,WELL_LIST=WELL_LIST, LGR_LIST=meta_data[f'case_{idx}']['LGR_LIST'],\n",
    "                 PCOLOR_GRID_DICT = meta_data[f'case_{idx}']['PCOLOR_GRID_DICT'],\n",
    "                 GRID_IDX_DICT=meta_data[f'case_{idx}']['GRID_IDX_DICT'],\n",
    "                 OUTPUT_DICT=dict_convert_torch_to_numpy(PRED),\n",
    "                 cmin=cmin,cmax=cmax,\n",
    "                 xmin=0,xmax=160000,\n",
    "                 ymin=0,ymax=160000,\n",
    "                 grid_on=False, title=f'Pred',boundary_on=True)\n",
    "\n",
    "    plt.tight_layout()\n",
    "    plt.show()"
   ]
  },
  {
   "cell_type": "code",
   "execution_count": 13,
   "id": "219c5cd3",
   "metadata": {},
   "outputs": [],
   "source": [
    "def plot_x_comparison():\n",
    "    for well in WELL_LIST:\n",
    "        plt.figure(figsize=(10,1.5))\n",
    "        z=0\n",
    "        t = 24\n",
    "        cmin, cmax = 0, 15\n",
    "        x, y = meta_data[f'case_{idx}']['INJ_LOCATION_DICT'][well][0], meta_data[f'case_{idx}']['INJ_LOCATION_DICT'][well][1]\n",
    "        plt.subplot(1,2,1)\n",
    "        plot_x_slice(x=x, WELL_LIST=WELL_LIST, LGR_LIST=meta_data[f'case_{idx}']['LGR_LIST'],\n",
    "                     PCOLOR_GRID_DICT = meta_data[f'case_{idx}']['PCOLOR_GRID_DICT'],\n",
    "                     GRID_IDX_DICT=meta_data[f'case_{idx}']['GRID_IDX_DICT'],\n",
    "                     OUTPUT_DICT=dict_convert_torch_to_numpy(TRUE),\n",
    "                     cmin=cmin,cmax=cmax,\n",
    "                     xmin=y-4000,xmax=y+4000,\n",
    "                     ymin=0,ymax=100,\n",
    "                     title=f', {well}, True',boundary_on=True)\n",
    "        plt.subplot(1,2,2)\n",
    "        plot_x_slice(x=x, WELL_LIST=WELL_LIST, LGR_LIST=meta_data[f'case_{idx}']['LGR_LIST'],\n",
    "                     PCOLOR_GRID_DICT = meta_data[f'case_{idx}']['PCOLOR_GRID_DICT'],\n",
    "                     GRID_IDX_DICT=meta_data[f'case_{idx}']['GRID_IDX_DICT'],\n",
    "                     OUTPUT_DICT=dict_convert_torch_to_numpy(PRED),\n",
    "                     cmin=cmin,cmax=cmax,\n",
    "                     xmin=y-4000,xmax=y+4000,\n",
    "                     ymin=0,ymax=100,\n",
    "                     title=f', {well}, Pred',boundary_on=True)\n",
    "        plt.tight_layout()\n",
    "        plt.show()"
   ]
  },
  {
   "cell_type": "code",
   "execution_count": 51,
   "id": "754d036a",
   "metadata": {},
   "outputs": [],
   "source": [
    "import torch\n",
    "import numpy as np\n",
    "import torch.nn as nn\n",
    "import torch.nn.functional as F\n",
    "\n",
    "import operator\n",
    "from functools import reduce\n",
    "from functools import partial\n",
    "\n",
    "from timeit import default_timer\n",
    "\n",
    "torch.manual_seed(0)\n",
    "np.random.seed(0)\n",
    "\n",
    "class SpectralConv4d(nn.Module):\n",
    "    def __init__(self, in_channels, out_channels, modes1, modes2, modes3, modes4):\n",
    "        super(SpectralConv4d, self).__init__()\n",
    "\n",
    "        \"\"\"\n",
    "        4D Fourier layer. It does FFT, linear transform, and Inverse FFT.    \n",
    "        \"\"\"\n",
    "\n",
    "        self.in_channels = in_channels\n",
    "        self.out_channels = out_channels\n",
    "        self.modes1 = modes1 #Number of Fourier modes to multiply, at most floor(N/2) + 1\n",
    "        self.modes2 = modes2\n",
    "        self.modes3 = modes3\n",
    "        self.modes4 = modes4\n",
    "        \n",
    "        self.scale = (1 / (in_channels * out_channels))\n",
    "        self.weights1 = nn.Parameter(self.scale * torch.rand(in_channels, out_channels, self.modes1, self.modes2, self.modes3, self.modes4, dtype=torch.cfloat))\n",
    "        self.weights2 = nn.Parameter(self.scale * torch.rand(in_channels, out_channels, self.modes1, self.modes2, self.modes3, self.modes4, dtype=torch.cfloat))\n",
    "        self.weights3 = nn.Parameter(self.scale * torch.rand(in_channels, out_channels, self.modes1, self.modes2, self.modes3, self.modes4, dtype=torch.cfloat))\n",
    "        self.weights4 = nn.Parameter(self.scale * torch.rand(in_channels, out_channels, self.modes1, self.modes2, self.modes3, self.modes4, dtype=torch.cfloat))\n",
    "        self.weights5 = nn.Parameter(self.scale * torch.rand(in_channels, out_channels, self.modes1, self.modes2, self.modes3, self.modes4, dtype=torch.cfloat))\n",
    "        self.weights6 = nn.Parameter(self.scale * torch.rand(in_channels, out_channels, self.modes1, self.modes2, self.modes3, self.modes4, dtype=torch.cfloat))\n",
    "        self.weights7 = nn.Parameter(self.scale * torch.rand(in_channels, out_channels, self.modes1, self.modes2, self.modes3, self.modes4, dtype=torch.cfloat))\n",
    "        self.weights8 = nn.Parameter(self.scale * torch.rand(in_channels, out_channels, self.modes1, self.modes2, self.modes3, self.modes4, dtype=torch.cfloat))\n",
    "\n",
    "    # Complex multiplication\n",
    "    def compl_mul4d(self, input, weights):\n",
    "        # (batch, in_channel, x,y,t ), (in_channel, out_channel, x,y,t) -> (batch, out_channel, x,y,t)\n",
    "        return torch.einsum(\"bixyzt,ioxyzt->boxyzt\", input, weights)\n",
    "\n",
    "    def forward(self, x):\n",
    "        batchsize = x.shape[0]\n",
    "        #Compute Fourier coeffcients up to factor of e^(- something constant)\n",
    "        x_ft = torch.fft.rfftn(x, dim=[-4,-3,-2,-1])\n",
    "\n",
    "        # Multiply relevant Fourier modes\n",
    "        out_ft = torch.zeros(batchsize, self.out_channels, x.size(-4), x.size(-3), x.size(-2), x.size(-1)//2 + 1, dtype=torch.cfloat, device=x.device)\n",
    "        \n",
    "        out_ft[:, :, :self.modes1, :self.modes2, :self.modes3, :self.modes4] = self.compl_mul4d(x_ft[:, :, :self.modes1, :self.modes2, :self.modes3, :self.modes4], self.weights1)\n",
    "        out_ft[:, :, -self.modes1:, :self.modes2, :self.modes3, :self.modes4] = self.compl_mul4d(x_ft[:, :, -self.modes1:, :self.modes2, :self.modes3, :self.modes4], self.weights2)\n",
    "        out_ft[:, :, :self.modes1, -self.modes2:, :self.modes3, :self.modes4] = self.compl_mul4d(x_ft[:, :, :self.modes1, -self.modes2:, :self.modes3, :self.modes4], self.weights3)\n",
    "        out_ft[:, :, :self.modes1, :self.modes2, -self.modes3:, :self.modes4] = self.compl_mul4d(x_ft[:, :, :self.modes1, :self.modes2, -self.modes3:, :self.modes4], self.weights4)\n",
    "        out_ft[:, :, -self.modes1:, -self.modes2:, :self.modes3, :self.modes4] = self.compl_mul4d(x_ft[:, :, -self.modes1:, -self.modes2:, :self.modes3, :self.modes4], self.weights5)\n",
    "        out_ft[:, :, -self.modes1:, :self.modes2, -self.modes3:, :self.modes4] = self.compl_mul4d(x_ft[:, :, -self.modes1:, :self.modes2, -self.modes3:, :self.modes4], self.weights6)\n",
    "        out_ft[:, :, :self.modes1, -self.modes2:, -self.modes3:, :self.modes4] = self.compl_mul4d(x_ft[:, :, :self.modes1, -self.modes2:, -self.modes3:, :self.modes4], self.weights7)\n",
    "        out_ft[:, :, -self.modes1:, -self.modes2:, -self.modes3:, :self.modes4] = self.compl_mul4d(x_ft[:, :, -self.modes1:, -self.modes2:, -self.modes3:, :self.modes4], self.weights8)        \n",
    "\n",
    "        #Return to physical space\n",
    "        x = torch.fft.irfftn(out_ft, s=(x.size(-4), x.size(-3), x.size(-2), x.size(-1)))\n",
    "        return x\n",
    "\n",
    "class Block4d(nn.Module):\n",
    "    def __init__(self, width, width2, modes1, modes2, modes3, modes4, out_dim):\n",
    "        super(Block4d, self).__init__()\n",
    "        self.modes1 = modes1\n",
    "        self.modes2 = modes2\n",
    "        self.modes3 = modes3\n",
    "        self.modes4 = modes4\n",
    "        \n",
    "        self.width = width\n",
    "        self.width2 = width2\n",
    "        self.out_dim = out_dim\n",
    "        self.padding = 8\n",
    "        \n",
    "        # channel\n",
    "        self.conv0 = SpectralConv4d(self.width, self.width, self.modes1, self.modes2, self.modes3, self.modes4)\n",
    "        self.conv1 = SpectralConv4d(self.width, self.width, self.modes1, self.modes2, self.modes3, self.modes4)\n",
    "        self.conv2 = SpectralConv4d(self.width, self.width, self.modes1, self.modes2, self.modes3, self.modes4)\n",
    "        self.conv3 = SpectralConv4d(self.width, self.width, self.modes1, self.modes2, self.modes3, self.modes4)\n",
    "        self.w0 = nn.Conv1d(self.width, self.width, 1)\n",
    "        self.w1 = nn.Conv1d(self.width, self.width, 1)\n",
    "        self.w2 = nn.Conv1d(self.width, self.width, 1)\n",
    "        self.w3 = nn.Conv1d(self.width, self.width, 1)\n",
    "        self.fc1 = nn.Linear(self.width, self.width2)\n",
    "        self.fc2 = nn.Linear(self.width2, self.out_dim)\n",
    "        \n",
    "    def forward(self, x):\n",
    "        batchsize = x.shape[0]\n",
    "        size_x, size_y, size_z, size_t = x.shape[2], x.shape[3], x.shape[4], x.shape[5]\n",
    "#         print(size_x, size_y, size_z, size_t)\n",
    "        # channel\n",
    "        print(x.shape)\n",
    "        print(x.dtype)\n",
    "        x1 = self.conv0(x)\n",
    "        print(x1.shape)\n",
    "        x2 = self.w0(x.view(batchsize, self.width, -1)).view(batchsize, self.width, size_x, size_y, size_z, size_t)\n",
    "        x = x1 + x2\n",
    "        x = F.gelu(x)\n",
    "        \n",
    "        x1 = self.conv1(x)\n",
    "        x2 = self.w1(x.view(batchsize, self.width, -1)).view(batchsize, self.width, size_x, size_y, size_z, size_t)\n",
    "        x = x1 + x2\n",
    "        x = F.gelu(x)\n",
    "\n",
    "        x1 = self.conv2(x)\n",
    "        x2 = self.w2(x.view(batchsize, self.width, -1)).view(batchsize, self.width, size_x, size_y, size_z, size_t)\n",
    "        x = x1 + x2\n",
    "        x = F.gelu(x)\n",
    "\n",
    "        x1 = self.conv3(x)\n",
    "        x2 = self.w3(x.view(batchsize, self.width, -1)).view(batchsize, self.width, size_x, size_y, size_z, size_t)\n",
    "        x = x1 + x2\n",
    "        \n",
    "        x = x[:, :, self.padding:-self.padding, self.padding*2:-self.padding*2, \n",
    "              self.padding*2:-self.padding*2, self.padding:-self.padding]\n",
    "        \n",
    "        x = x.permute(0, 2, 3, 4, 5, 1)  # pad the domain if input is non-periodic\n",
    "        x1 = self.fc1(x)\n",
    "        x = F.gelu(x1)\n",
    "        x = self.fc2(x)\n",
    "        \n",
    "        return x\n",
    "    \n",
    "class FNO4d(nn.Module):\n",
    "    def __init__(self, modes1, modes2, modes3, modes4, width, in_dim):\n",
    "        super(FNO4d, self).__init__()\n",
    "\n",
    "        self.modes1 = modes1\n",
    "        self.modes2 = modes2\n",
    "        self.modes3 = modes3\n",
    "        self.modes4 = modes4\n",
    "        self.width = width\n",
    "        self.width2 = width*4\n",
    "        self.in_dim = in_dim\n",
    "        self.out_dim = 1\n",
    "        self.padding = 8  # pad the domain if input is non-periodic\n",
    "        \n",
    "        self.fc0 = nn.Linear(self.in_dim, self.width)\n",
    "        self.conv = Block4d(self.width, self.width2, \n",
    "                               self.modes1, self.modes2, self.modes3, self.modes4, self.out_dim)\n",
    "\n",
    "    def forward(self, x, gradient=False):\n",
    "        x = self.fc0(x) \n",
    "        x = x.permute(0, 5, 1, 2, 3, 4)\n",
    "        x = F.pad(x, [self.padding, self.padding, self.padding*2, self.padding*2, self.padding*2, \n",
    "                      self.padding*2, self.padding, self.padding])  \n",
    "        \n",
    "        x = self.conv(x)\n",
    "    \n",
    "        return x\n",
    "    \n",
    "    \n",
    "    "
   ]
  },
  {
   "cell_type": "code",
   "execution_count": 53,
   "id": "b3d40344",
   "metadata": {},
   "outputs": [
    {
     "data": {
      "text/plain": [
       "FNO4d(\n",
       "  (fc0): Linear(in_features=8, out_features=28, bias=True)\n",
       "  (conv): Block4d(\n",
       "    (conv0): SpectralConv4d()\n",
       "    (conv1): SpectralConv4d()\n",
       "    (conv2): SpectralConv4d()\n",
       "    (conv3): SpectralConv4d()\n",
       "    (w0): Conv1d(28, 28, kernel_size=(1,), stride=(1,))\n",
       "    (w1): Conv1d(28, 28, kernel_size=(1,), stride=(1,))\n",
       "    (w2): Conv1d(28, 28, kernel_size=(1,), stride=(1,))\n",
       "    (w3): Conv1d(28, 28, kernel_size=(1,), stride=(1,))\n",
       "    (fc1): Linear(in_features=28, out_features=112, bias=True)\n",
       "    (fc2): Linear(in_features=112, out_features=1, bias=True)\n",
       "  )\n",
       ")"
      ]
     },
     "execution_count": 53,
     "metadata": {},
     "output_type": "execute_result"
    }
   ],
   "source": [
    "width = 28\n",
    "mode1, mode2, mode3, mode4 = 4, 20, 20, 2\n",
    "model_global = FNO4d(mode1, mode2, mode3, mode4, width, in_dim=8)\n",
    "model_global"
   ]
  },
  {
   "cell_type": "code",
   "execution_count": 54,
   "id": "4b43d476",
   "metadata": {},
   "outputs": [
    {
     "data": {
      "text/plain": [
       "<All keys matched successfully>"
      ]
     },
     "execution_count": 54,
     "metadata": {},
     "output_type": "execute_result"
    }
   ],
   "source": [
    "model_global.load_state_dict(MODEL_DICT['GLOBAL'].state_dict())"
   ]
  },
  {
   "cell_type": "code",
   "execution_count": 56,
   "id": "9e68de94",
   "metadata": {},
   "outputs": [
    {
     "name": "stdout",
     "output_type": "stream",
     "text": [
      "Allocated: 7479.10 MB\n",
      "Cached:    8288.00 MB\n",
      "torch.Size([1, 28, 40, 132, 132, 21])\n",
      "torch.float16\n"
     ]
    },
    {
     "ename": "RuntimeError",
     "evalue": "cuFFT only supports dimensions whose sizes are powers of two when computing in half precision, but got a signal size of[21]",
     "output_type": "error",
     "traceback": [
      "\u001b[0;31m---------------------------------------------------------------------------\u001b[0m",
      "\u001b[0;31mRuntimeError\u001b[0m                              Traceback (most recent call last)",
      "\u001b[0;32m/tmp/ipykernel_61464/85928443.py\u001b[0m in \u001b[0;36m<module>\u001b[0;34m\u001b[0m\n\u001b[1;32m     20\u001b[0m             \u001b[0mmodel_global\u001b[0m\u001b[0;34m.\u001b[0m\u001b[0mto\u001b[0m\u001b[0;34m(\u001b[0m\u001b[0mdevice\u001b[0m\u001b[0;34m)\u001b[0m\u001b[0;34m\u001b[0m\u001b[0;34m\u001b[0m\u001b[0m\n\u001b[1;32m     21\u001b[0m \u001b[0;31m#             pred = NORMALIZER_DICT['output']['GLOBAL'].decode(MODEL_DICT['GLOBAL'](x)).cpu()\u001b[0m\u001b[0;34m\u001b[0m\u001b[0;34m\u001b[0m\u001b[0;34m\u001b[0m\u001b[0m\n\u001b[0;32m---> 22\u001b[0;31m             \u001b[0mpred\u001b[0m \u001b[0;34m=\u001b[0m \u001b[0mNORMALIZER_DICT\u001b[0m\u001b[0;34m[\u001b[0m\u001b[0;34m'output'\u001b[0m\u001b[0;34m]\u001b[0m\u001b[0;34m[\u001b[0m\u001b[0;34m'GLOBAL'\u001b[0m\u001b[0;34m]\u001b[0m\u001b[0;34m.\u001b[0m\u001b[0mdecode\u001b[0m\u001b[0;34m(\u001b[0m\u001b[0mmodel_global\u001b[0m\u001b[0;34m(\u001b[0m\u001b[0mx\u001b[0m\u001b[0;34m)\u001b[0m\u001b[0;34m)\u001b[0m\u001b[0;34m.\u001b[0m\u001b[0mcpu\u001b[0m\u001b[0;34m(\u001b[0m\u001b[0;34m)\u001b[0m\u001b[0;34m\u001b[0m\u001b[0;34m\u001b[0m\u001b[0m\n\u001b[0m\u001b[1;32m     23\u001b[0m \u001b[0;34m\u001b[0m\u001b[0m\n\u001b[1;32m     24\u001b[0m \u001b[0;31m#             MODEL_DICT['GLOBAL'].cpu()\u001b[0m\u001b[0;34m\u001b[0m\u001b[0;34m\u001b[0m\u001b[0;34m\u001b[0m\u001b[0m\n",
      "\u001b[0;32m~/.local/lib/python3.9/site-packages/torch/nn/modules/module.py\u001b[0m in \u001b[0;36m_call_impl\u001b[0;34m(self, *args, **kwargs)\u001b[0m\n\u001b[1;32m   1499\u001b[0m                 \u001b[0;32mor\u001b[0m \u001b[0m_global_backward_pre_hooks\u001b[0m \u001b[0;32mor\u001b[0m \u001b[0m_global_backward_hooks\u001b[0m\u001b[0;34m\u001b[0m\u001b[0;34m\u001b[0m\u001b[0m\n\u001b[1;32m   1500\u001b[0m                 or _global_forward_hooks or _global_forward_pre_hooks):\n\u001b[0;32m-> 1501\u001b[0;31m             \u001b[0;32mreturn\u001b[0m \u001b[0mforward_call\u001b[0m\u001b[0;34m(\u001b[0m\u001b[0;34m*\u001b[0m\u001b[0margs\u001b[0m\u001b[0;34m,\u001b[0m \u001b[0;34m**\u001b[0m\u001b[0mkwargs\u001b[0m\u001b[0;34m)\u001b[0m\u001b[0;34m\u001b[0m\u001b[0;34m\u001b[0m\u001b[0m\n\u001b[0m\u001b[1;32m   1502\u001b[0m         \u001b[0;31m# Do not call functions when jit is used\u001b[0m\u001b[0;34m\u001b[0m\u001b[0;34m\u001b[0m\u001b[0;34m\u001b[0m\u001b[0m\n\u001b[1;32m   1503\u001b[0m         \u001b[0mfull_backward_hooks\u001b[0m\u001b[0;34m,\u001b[0m \u001b[0mnon_full_backward_hooks\u001b[0m \u001b[0;34m=\u001b[0m \u001b[0;34m[\u001b[0m\u001b[0;34m]\u001b[0m\u001b[0;34m,\u001b[0m \u001b[0;34m[\u001b[0m\u001b[0;34m]\u001b[0m\u001b[0;34m\u001b[0m\u001b[0;34m\u001b[0m\u001b[0m\n",
      "\u001b[0;32m/tmp/ipykernel_61464/2866137954.py\u001b[0m in \u001b[0;36mforward\u001b[0;34m(self, x, gradient)\u001b[0m\n\u001b[1;32m    150\u001b[0m                       self.padding*2, self.padding, self.padding])  \n\u001b[1;32m    151\u001b[0m \u001b[0;34m\u001b[0m\u001b[0m\n\u001b[0;32m--> 152\u001b[0;31m         \u001b[0mx\u001b[0m \u001b[0;34m=\u001b[0m \u001b[0mself\u001b[0m\u001b[0;34m.\u001b[0m\u001b[0mconv\u001b[0m\u001b[0;34m(\u001b[0m\u001b[0mx\u001b[0m\u001b[0;34m)\u001b[0m\u001b[0;34m\u001b[0m\u001b[0;34m\u001b[0m\u001b[0m\n\u001b[0m\u001b[1;32m    153\u001b[0m \u001b[0;34m\u001b[0m\u001b[0m\n\u001b[1;32m    154\u001b[0m         \u001b[0;32mreturn\u001b[0m \u001b[0mx\u001b[0m\u001b[0;34m\u001b[0m\u001b[0;34m\u001b[0m\u001b[0m\n",
      "\u001b[0;32m~/.local/lib/python3.9/site-packages/torch/nn/modules/module.py\u001b[0m in \u001b[0;36m_call_impl\u001b[0;34m(self, *args, **kwargs)\u001b[0m\n\u001b[1;32m   1499\u001b[0m                 \u001b[0;32mor\u001b[0m \u001b[0m_global_backward_pre_hooks\u001b[0m \u001b[0;32mor\u001b[0m \u001b[0m_global_backward_hooks\u001b[0m\u001b[0;34m\u001b[0m\u001b[0;34m\u001b[0m\u001b[0m\n\u001b[1;32m   1500\u001b[0m                 or _global_forward_hooks or _global_forward_pre_hooks):\n\u001b[0;32m-> 1501\u001b[0;31m             \u001b[0;32mreturn\u001b[0m \u001b[0mforward_call\u001b[0m\u001b[0;34m(\u001b[0m\u001b[0;34m*\u001b[0m\u001b[0margs\u001b[0m\u001b[0;34m,\u001b[0m \u001b[0;34m**\u001b[0m\u001b[0mkwargs\u001b[0m\u001b[0;34m)\u001b[0m\u001b[0;34m\u001b[0m\u001b[0;34m\u001b[0m\u001b[0m\n\u001b[0m\u001b[1;32m   1502\u001b[0m         \u001b[0;31m# Do not call functions when jit is used\u001b[0m\u001b[0;34m\u001b[0m\u001b[0;34m\u001b[0m\u001b[0;34m\u001b[0m\u001b[0m\n\u001b[1;32m   1503\u001b[0m         \u001b[0mfull_backward_hooks\u001b[0m\u001b[0;34m,\u001b[0m \u001b[0mnon_full_backward_hooks\u001b[0m \u001b[0;34m=\u001b[0m \u001b[0;34m[\u001b[0m\u001b[0;34m]\u001b[0m\u001b[0;34m,\u001b[0m \u001b[0;34m[\u001b[0m\u001b[0;34m]\u001b[0m\u001b[0;34m\u001b[0m\u001b[0;34m\u001b[0m\u001b[0m\n",
      "\u001b[0;32m/tmp/ipykernel_61464/2866137954.py\u001b[0m in \u001b[0;36mforward\u001b[0;34m(self, x)\u001b[0m\n\u001b[1;32m     96\u001b[0m         \u001b[0mprint\u001b[0m\u001b[0;34m(\u001b[0m\u001b[0mx\u001b[0m\u001b[0;34m.\u001b[0m\u001b[0mshape\u001b[0m\u001b[0;34m)\u001b[0m\u001b[0;34m\u001b[0m\u001b[0;34m\u001b[0m\u001b[0m\n\u001b[1;32m     97\u001b[0m         \u001b[0mprint\u001b[0m\u001b[0;34m(\u001b[0m\u001b[0mx\u001b[0m\u001b[0;34m.\u001b[0m\u001b[0mdtype\u001b[0m\u001b[0;34m)\u001b[0m\u001b[0;34m\u001b[0m\u001b[0;34m\u001b[0m\u001b[0m\n\u001b[0;32m---> 98\u001b[0;31m         \u001b[0mx1\u001b[0m \u001b[0;34m=\u001b[0m \u001b[0mself\u001b[0m\u001b[0;34m.\u001b[0m\u001b[0mconv0\u001b[0m\u001b[0;34m(\u001b[0m\u001b[0mx\u001b[0m\u001b[0;34m)\u001b[0m\u001b[0;34m\u001b[0m\u001b[0;34m\u001b[0m\u001b[0m\n\u001b[0m\u001b[1;32m     99\u001b[0m         \u001b[0mprint\u001b[0m\u001b[0;34m(\u001b[0m\u001b[0mx1\u001b[0m\u001b[0;34m.\u001b[0m\u001b[0mshape\u001b[0m\u001b[0;34m)\u001b[0m\u001b[0;34m\u001b[0m\u001b[0;34m\u001b[0m\u001b[0m\n\u001b[1;32m    100\u001b[0m         \u001b[0mx2\u001b[0m \u001b[0;34m=\u001b[0m \u001b[0mself\u001b[0m\u001b[0;34m.\u001b[0m\u001b[0mw0\u001b[0m\u001b[0;34m(\u001b[0m\u001b[0mx\u001b[0m\u001b[0;34m.\u001b[0m\u001b[0mview\u001b[0m\u001b[0;34m(\u001b[0m\u001b[0mbatchsize\u001b[0m\u001b[0;34m,\u001b[0m \u001b[0mself\u001b[0m\u001b[0;34m.\u001b[0m\u001b[0mwidth\u001b[0m\u001b[0;34m,\u001b[0m \u001b[0;34m-\u001b[0m\u001b[0;36m1\u001b[0m\u001b[0;34m)\u001b[0m\u001b[0;34m)\u001b[0m\u001b[0;34m.\u001b[0m\u001b[0mview\u001b[0m\u001b[0;34m(\u001b[0m\u001b[0mbatchsize\u001b[0m\u001b[0;34m,\u001b[0m \u001b[0mself\u001b[0m\u001b[0;34m.\u001b[0m\u001b[0mwidth\u001b[0m\u001b[0;34m,\u001b[0m \u001b[0msize_x\u001b[0m\u001b[0;34m,\u001b[0m \u001b[0msize_y\u001b[0m\u001b[0;34m,\u001b[0m \u001b[0msize_z\u001b[0m\u001b[0;34m,\u001b[0m \u001b[0msize_t\u001b[0m\u001b[0;34m)\u001b[0m\u001b[0;34m\u001b[0m\u001b[0;34m\u001b[0m\u001b[0m\n",
      "\u001b[0;32m~/.local/lib/python3.9/site-packages/torch/nn/modules/module.py\u001b[0m in \u001b[0;36m_call_impl\u001b[0;34m(self, *args, **kwargs)\u001b[0m\n\u001b[1;32m   1499\u001b[0m                 \u001b[0;32mor\u001b[0m \u001b[0m_global_backward_pre_hooks\u001b[0m \u001b[0;32mor\u001b[0m \u001b[0m_global_backward_hooks\u001b[0m\u001b[0;34m\u001b[0m\u001b[0;34m\u001b[0m\u001b[0m\n\u001b[1;32m   1500\u001b[0m                 or _global_forward_hooks or _global_forward_pre_hooks):\n\u001b[0;32m-> 1501\u001b[0;31m             \u001b[0;32mreturn\u001b[0m \u001b[0mforward_call\u001b[0m\u001b[0;34m(\u001b[0m\u001b[0;34m*\u001b[0m\u001b[0margs\u001b[0m\u001b[0;34m,\u001b[0m \u001b[0;34m**\u001b[0m\u001b[0mkwargs\u001b[0m\u001b[0;34m)\u001b[0m\u001b[0;34m\u001b[0m\u001b[0;34m\u001b[0m\u001b[0m\n\u001b[0m\u001b[1;32m   1502\u001b[0m         \u001b[0;31m# Do not call functions when jit is used\u001b[0m\u001b[0;34m\u001b[0m\u001b[0;34m\u001b[0m\u001b[0;34m\u001b[0m\u001b[0m\n\u001b[1;32m   1503\u001b[0m         \u001b[0mfull_backward_hooks\u001b[0m\u001b[0;34m,\u001b[0m \u001b[0mnon_full_backward_hooks\u001b[0m \u001b[0;34m=\u001b[0m \u001b[0;34m[\u001b[0m\u001b[0;34m]\u001b[0m\u001b[0;34m,\u001b[0m \u001b[0;34m[\u001b[0m\u001b[0;34m]\u001b[0m\u001b[0;34m\u001b[0m\u001b[0;34m\u001b[0m\u001b[0m\n",
      "\u001b[0;32m/tmp/ipykernel_61464/2866137954.py\u001b[0m in \u001b[0;36mforward\u001b[0;34m(self, x)\u001b[0m\n\u001b[1;32m     46\u001b[0m         \u001b[0mbatchsize\u001b[0m \u001b[0;34m=\u001b[0m \u001b[0mx\u001b[0m\u001b[0;34m.\u001b[0m\u001b[0mshape\u001b[0m\u001b[0;34m[\u001b[0m\u001b[0;36m0\u001b[0m\u001b[0;34m]\u001b[0m\u001b[0;34m\u001b[0m\u001b[0;34m\u001b[0m\u001b[0m\n\u001b[1;32m     47\u001b[0m         \u001b[0;31m#Compute Fourier coeffcients up to factor of e^(- something constant)\u001b[0m\u001b[0;34m\u001b[0m\u001b[0;34m\u001b[0m\u001b[0;34m\u001b[0m\u001b[0m\n\u001b[0;32m---> 48\u001b[0;31m         \u001b[0mx_ft\u001b[0m \u001b[0;34m=\u001b[0m \u001b[0mtorch\u001b[0m\u001b[0;34m.\u001b[0m\u001b[0mfft\u001b[0m\u001b[0;34m.\u001b[0m\u001b[0mrfftn\u001b[0m\u001b[0;34m(\u001b[0m\u001b[0mx\u001b[0m\u001b[0;34m,\u001b[0m \u001b[0mdim\u001b[0m\u001b[0;34m=\u001b[0m\u001b[0;34m[\u001b[0m\u001b[0;34m-\u001b[0m\u001b[0;36m4\u001b[0m\u001b[0;34m,\u001b[0m\u001b[0;34m-\u001b[0m\u001b[0;36m3\u001b[0m\u001b[0;34m,\u001b[0m\u001b[0;34m-\u001b[0m\u001b[0;36m2\u001b[0m\u001b[0;34m,\u001b[0m\u001b[0;34m-\u001b[0m\u001b[0;36m1\u001b[0m\u001b[0;34m]\u001b[0m\u001b[0;34m)\u001b[0m\u001b[0;34m\u001b[0m\u001b[0;34m\u001b[0m\u001b[0m\n\u001b[0m\u001b[1;32m     49\u001b[0m \u001b[0;34m\u001b[0m\u001b[0m\n\u001b[1;32m     50\u001b[0m         \u001b[0;31m# Multiply relevant Fourier modes\u001b[0m\u001b[0;34m\u001b[0m\u001b[0;34m\u001b[0m\u001b[0;34m\u001b[0m\u001b[0m\n",
      "\u001b[0;31mRuntimeError\u001b[0m: cuFFT only supports dimensions whose sizes are powers of two when computing in half precision, but got a signal size of[21]"
     ]
    }
   ],
   "source": [
    "it = iter(test_loader)\n",
    "\n",
    "for counter in range(1):\n",
    "        with torch.no_grad():\n",
    "            torch.cuda.reset_peak_memory_stats()\n",
    "\n",
    "            PRED, TRUE = {}, {}\n",
    "            data = next(it)\n",
    "            x, y, path = data['x'], data['y'], data['path']\n",
    "            x, y = x[None,...].to(device), y[None,...]\n",
    "            x[...,-1:] = NORMALIZER_DICT['input']['GLOBAL'].encode(x.to(device)[...,-1:])\n",
    "            torch.cuda.empty_cache()\n",
    "            print_gpu_memory_usage()\n",
    "            \n",
    "            x = x.half()\n",
    "#             MODEL_DICT['GLOBAL'].half()\n",
    "            model_global.half()\n",
    "            \n",
    "#             MODEL_DICT['GLOBAL'].to(device)\n",
    "            model_global.to(device)\n",
    "#             pred = NORMALIZER_DICT['output']['GLOBAL'].decode(MODEL_DICT['GLOBAL'](x)).cpu()\n",
    "            pred = NORMALIZER_DICT['output']['GLOBAL'].decode(model_global(x)).cpu()\n",
    "\n",
    "#             MODEL_DICT['GLOBAL'].cpu()\n",
    "            PRED['GLOBAL'] = pred\n",
    "            TRUE['GLOBAL'] = y\n",
    "            slope, idx, well = path[0], path[1], path[2]\n",
    "\n",
    "            meta_data = np.load(f'ECLIPSE/meta_data/{slope}_{idx}.npy', allow_pickle=True).tolist()\n",
    "            WELL_LIST = meta_data[f'case_{idx}']['WELL_LIST']\n",
    "            GRID_IDX_DICT = meta_data[f'case_{idx}']['GRID_IDX_DICT']\n",
    "            \n",
    "            peak_memory_usage_bytes = torch.cuda.max_memory_allocated()\n",
    "            peak_memory_usage_mb = peak_memory_usage_bytes / (1024 * 1024)\n",
    "            print(\"Peak memory usage: {:.2f} MB\".format(peak_memory_usage_mb))\n",
    "            torch.cuda.empty_cache()\n",
    "\n",
    "print_gpu_memory_usage()"
   ]
  },
  {
   "cell_type": "code",
   "execution_count": 71,
   "id": "62addb38",
   "metadata": {},
   "outputs": [
    {
     "ename": "RuntimeError",
     "evalue": "cuFFT only supports dimensions whose sizes are powers of two when computing in half precision, but got a signal size of[22]",
     "output_type": "error",
     "traceback": [
      "\u001b[0;31m---------------------------------------------------------------------------\u001b[0m",
      "\u001b[0;31mRuntimeError\u001b[0m                              Traceback (most recent call last)",
      "\u001b[0;32m/tmp/ipykernel_61464/1264730182.py\u001b[0m in \u001b[0;36m<module>\u001b[0;34m\u001b[0m\n\u001b[1;32m      2\u001b[0m \u001b[0mx\u001b[0m \u001b[0;34m=\u001b[0m \u001b[0mx\u001b[0m\u001b[0;34m.\u001b[0m\u001b[0mhalf\u001b[0m\u001b[0;34m(\u001b[0m\u001b[0;34m)\u001b[0m\u001b[0;34m\u001b[0m\u001b[0;34m\u001b[0m\u001b[0m\n\u001b[1;32m      3\u001b[0m \u001b[0mx\u001b[0m \u001b[0;34m=\u001b[0m \u001b[0mx\u001b[0m\u001b[0;34m.\u001b[0m\u001b[0mto\u001b[0m\u001b[0;34m(\u001b[0m\u001b[0mdevice\u001b[0m\u001b[0;34m)\u001b[0m\u001b[0;34m\u001b[0m\u001b[0;34m\u001b[0m\u001b[0m\n\u001b[0;32m----> 4\u001b[0;31m \u001b[0my\u001b[0m \u001b[0;34m=\u001b[0m \u001b[0mtorch\u001b[0m\u001b[0;34m.\u001b[0m\u001b[0mfft\u001b[0m\u001b[0;34m.\u001b[0m\u001b[0mrfftn\u001b[0m\u001b[0;34m(\u001b[0m\u001b[0mx\u001b[0m\u001b[0;34m,\u001b[0m \u001b[0mdim\u001b[0m\u001b[0;34m=\u001b[0m\u001b[0;34m[\u001b[0m\u001b[0;34m-\u001b[0m\u001b[0;36m4\u001b[0m\u001b[0;34m,\u001b[0m\u001b[0;34m-\u001b[0m\u001b[0;36m3\u001b[0m\u001b[0;34m,\u001b[0m\u001b[0;34m-\u001b[0m\u001b[0;36m2\u001b[0m\u001b[0;34m,\u001b[0m\u001b[0;34m-\u001b[0m\u001b[0;36m1\u001b[0m\u001b[0;34m]\u001b[0m\u001b[0;34m)\u001b[0m\u001b[0;34m\u001b[0m\u001b[0;34m\u001b[0m\u001b[0m\n\u001b[0m",
      "\u001b[0;31mRuntimeError\u001b[0m: cuFFT only supports dimensions whose sizes are powers of two when computing in half precision, but got a signal size of[22]"
     ]
    }
   ],
   "source": [
    "x = torch.rand(1, 28, 40, 132, 132, 22)\n",
    "x = x.half()\n",
    "x = x.to(device)\n",
    "y = torch.fft.rfftn(x, dim=[-4,-3,-2,-1])"
   ]
  },
  {
   "cell_type": "code",
   "execution_count": 68,
   "id": "c014bdd7",
   "metadata": {},
   "outputs": [
    {
     "data": {
      "text/plain": [
       "(8, 16, 32, 64, 128)"
      ]
     },
     "execution_count": 68,
     "metadata": {},
     "output_type": "execute_result"
    }
   ],
   "source": [
    "2**3, 2**4, 2**5, 2**6, 2**7"
   ]
  },
  {
   "cell_type": "code",
   "execution_count": 70,
   "id": "895902c0",
   "metadata": {},
   "outputs": [],
   "source": [
    "x = torch.rand(1, 32, 64, 128, 128, 32)\n",
    "x = x.half()\n",
    "x = x.to(device)\n",
    "y = torch.fft.rfftn(x, dim=[-4,-3,-2,-1])"
   ]
  },
  {
   "cell_type": "code",
   "execution_count": 21,
   "id": "a9cc380f",
   "metadata": {},
   "outputs": [
    {
     "data": {
      "text/plain": [
       "torch.float32"
      ]
     },
     "execution_count": 21,
     "metadata": {},
     "output_type": "execute_result"
    }
   ],
   "source": [
    "x = x.half()\n",
    "x.dtype"
   ]
  },
  {
   "cell_type": "code",
   "execution_count": 19,
   "id": "b16e99aa",
   "metadata": {},
   "outputs": [
    {
     "name": "stdout",
     "output_type": "stream",
     "text": [
      "fc0.weight : torch.float16\n",
      "fc0.bias : torch.float16\n",
      "conv.conv0.weights1 : torch.complex64\n",
      "conv.conv0.weights2 : torch.complex64\n",
      "conv.conv0.weights3 : torch.complex64\n",
      "conv.conv0.weights4 : torch.complex64\n",
      "conv.conv0.weights5 : torch.complex64\n",
      "conv.conv0.weights6 : torch.complex64\n",
      "conv.conv0.weights7 : torch.complex64\n",
      "conv.conv0.weights8 : torch.complex64\n",
      "conv.conv1.weights1 : torch.complex64\n",
      "conv.conv1.weights2 : torch.complex64\n",
      "conv.conv1.weights3 : torch.complex64\n",
      "conv.conv1.weights4 : torch.complex64\n",
      "conv.conv1.weights5 : torch.complex64\n",
      "conv.conv1.weights6 : torch.complex64\n",
      "conv.conv1.weights7 : torch.complex64\n",
      "conv.conv1.weights8 : torch.complex64\n",
      "conv.conv2.weights1 : torch.complex64\n",
      "conv.conv2.weights2 : torch.complex64\n",
      "conv.conv2.weights3 : torch.complex64\n",
      "conv.conv2.weights4 : torch.complex64\n",
      "conv.conv2.weights5 : torch.complex64\n",
      "conv.conv2.weights6 : torch.complex64\n",
      "conv.conv2.weights7 : torch.complex64\n",
      "conv.conv2.weights8 : torch.complex64\n",
      "conv.conv3.weights1 : torch.complex64\n",
      "conv.conv3.weights2 : torch.complex64\n",
      "conv.conv3.weights3 : torch.complex64\n",
      "conv.conv3.weights4 : torch.complex64\n",
      "conv.conv3.weights5 : torch.complex64\n",
      "conv.conv3.weights6 : torch.complex64\n",
      "conv.conv3.weights7 : torch.complex64\n",
      "conv.conv3.weights8 : torch.complex64\n",
      "conv.w0.weight : torch.float16\n",
      "conv.w0.bias : torch.float16\n",
      "conv.w1.weight : torch.float16\n",
      "conv.w1.bias : torch.float16\n",
      "conv.w2.weight : torch.float16\n",
      "conv.w2.bias : torch.float16\n",
      "conv.w3.weight : torch.float16\n",
      "conv.w3.bias : torch.float16\n",
      "conv.fc1.weight : torch.float16\n",
      "conv.fc1.bias : torch.float16\n",
      "conv.fc2.weight : torch.float16\n",
      "conv.fc2.bias : torch.float16\n"
     ]
    }
   ],
   "source": [
    "for name, param in MODEL_DICT['GLOBAL'].named_parameters():\n",
    "    print(f\"{name} : {param.dtype}\")"
   ]
  },
  {
   "cell_type": "code",
   "execution_count": 23,
   "id": "2bc51cc2",
   "metadata": {},
   "outputs": [
    {
     "name": "stdout",
     "output_type": "stream",
     "text": [
      "Peak memory usage: 21495.57 MB\n",
      "Allocated: 5488.32 MB\n",
      "Cached:    6062.00 MB\n"
     ]
    }
   ],
   "source": [
    "it = iter(test_loader)\n",
    "\n",
    "for counter in range(1):\n",
    "        with torch.no_grad():\n",
    "            torch.cuda.reset_max_memory_allocated()\n",
    "\n",
    "            PRED, TRUE = {}, {}\n",
    "            data = next(it)\n",
    "            x, y, path = data['x'], data['y'], data['path']\n",
    "            x, y = x[None,...].to(device), y[None,...]\n",
    "            x[...,-1:] = NORMALIZER_DICT['input']['GLOBAL'].encode(x.to(device)[...,-1:])\n",
    "            x.half()\n",
    "            MODEL_DICT['GLOBAL'](x).half()\n",
    "            pred = NORMALIZER_DICT['output']['GLOBAL'].decode(MODEL_DICT['GLOBAL'](x)).cpu()\n",
    "            PRED['GLOBAL'] = pred\n",
    "            TRUE['GLOBAL'] = y\n",
    "            slope, idx, well = path[0], path[1], path[2]\n",
    "\n",
    "            meta_data = np.load(f'ECLIPSE/meta_data/{slope}_{idx}.npy', allow_pickle=True).tolist()\n",
    "            WELL_LIST = meta_data[f'case_{idx}']['WELL_LIST']\n",
    "            GRID_IDX_DICT = meta_data[f'case_{idx}']['GRID_IDX_DICT']\n",
    "            peak_memory_usage_bytes = torch.cuda.max_memory_allocated()\n",
    "            peak_memory_usage_mb = peak_memory_usage_bytes / (1024 * 1024)\n",
    "            print(\"Peak memory usage: {:.2f} MB\".format(peak_memory_usage_mb))\n",
    "            torch.cuda.empty_cache()\n",
    "print_gpu_memory_usage()"
   ]
  },
  {
   "cell_type": "code",
   "execution_count": 19,
   "id": "728cd083",
   "metadata": {
    "scrolled": false
   },
   "outputs": [
    {
     "name": "stdout",
     "output_type": "stream",
     "text": [
      "Allocated: 5934.00 MB\n",
      "Cached:    22982.00 MB\n",
      "LGR1\n",
      "Allocated: 5966.96 MB\n",
      "Cached:    6542.00 MB\n",
      "LGR2\n",
      "Allocated: 6032.96 MB\n",
      "Cached:    6608.00 MB\n",
      "LGR3\n",
      "Allocated: 6098.96 MB\n",
      "Cached:    6674.00 MB\n",
      "LGR4\n",
      "Allocated: 6128.34 MB\n",
      "Cached:    6702.00 MB\n",
      "LGR1\n",
      "Allocated: 6128.34 MB\n",
      "Cached:    6702.00 MB\n",
      "LGR2\n",
      "Allocated: 6128.34 MB\n",
      "Cached:    6702.00 MB\n",
      "LGR3\n",
      "Allocated: 6128.34 MB\n",
      "Cached:    6702.00 MB\n",
      "LGR4\n",
      "Allocated: 6128.34 MB\n",
      "Cached:    6702.00 MB\n",
      "LGR1\n",
      "Allocated: 6128.34 MB\n",
      "Cached:    6702.00 MB\n",
      "LGR2\n",
      "Allocated: 6128.34 MB\n",
      "Cached:    6702.00 MB\n",
      "LGR3\n",
      "Allocated: 6128.34 MB\n",
      "Cached:    6702.00 MB\n",
      "LGR4\n",
      "Allocated: 6128.34 MB\n",
      "Cached:    6702.00 MB\n",
      "LGR1\n",
      "Allocated: 6128.34 MB\n",
      "Cached:    6702.00 MB\n",
      "LGR2\n",
      "Allocated: 6128.34 MB\n",
      "Cached:    6702.00 MB\n",
      "LGR3\n",
      "Allocated: 6128.34 MB\n",
      "Cached:    6702.00 MB\n",
      "LGR4\n",
      "Allocated: 6128.34 MB\n",
      "Cached:    6702.00 MB\n"
     ]
    },
    {
     "data": {
      "image/png": "[encoded data removed]",
      "text/plain": [
       "<Figure size 720x302.4 with 4 Axes>"
      ]
     },
     "metadata": {
      "needs_background": "light"
     },
     "output_type": "display_data"
    },
    {
     "data": {
      "image/png": "[encoded data removed]",
      "text/plain": [
       "<Figure size 720x108 with 4 Axes>"
      ]
     },
     "metadata": {
      "needs_background": "light"
     },
     "output_type": "display_data"
    },
    {
     "data": {
      "image/png": "[encoded data removed]",
      "text/plain": [
       "<Figure size 720x108 with 4 Axes>"
      ]
     },
     "metadata": {
      "needs_background": "light"
     },
     "output_type": "display_data"
    },
    {
     "data": {
      "image/png": "[encoded data removed]",
      "text/plain": [
       "<Figure size 720x108 with 4 Axes>"
      ]
     },
     "metadata": {
      "needs_background": "light"
     },
     "output_type": "display_data"
    },
    {
     "data": {
      "image/png": "[encoded data removed]",
      "text/plain": [
       "<Figure size 720x108 with 4 Axes>"
      ]
     },
     "metadata": {
      "needs_background": "light"
     },
     "output_type": "display_data"
    }
   ],
   "source": [
    "it = iter(test_loader)\n",
    "\n",
    "for counter in range(1):\n",
    "\n",
    "    with torch.no_grad():\n",
    "        PRED, TRUE = {}, {}\n",
    "        data = next(it)\n",
    "        x, y, path = data['x'], data['y'], data['path']\n",
    "        x, y = x[None,...].to(device), y[None,...]\n",
    "        x[...,-1:] = NORMALIZER_DICT['input']['GLOBAL'].encode(x.to(device)[...,-1:])\n",
    "        pred = NORMALIZER_DICT['output']['GLOBAL'].decode(MODEL_DICT['GLOBAL'](x)).cpu()\n",
    "        PRED['GLOBAL'] = pred\n",
    "        TRUE['GLOBAL'] = y\n",
    "        slope, idx, well = path[0], path[1], path[2]\n",
    "\n",
    "        meta_data = np.load(f'ECLIPSE/meta_data/{slope}_{idx}.npy', allow_pickle=True).tolist()\n",
    "        WELL_LIST = meta_data[f'case_{idx}']['WELL_LIST']\n",
    "        GRID_IDX_DICT = meta_data[f'case_{idx}']['GRID_IDX_DICT']\n",
    "\n",
    "        print_gpu_memory_usage()\n",
    "        torch.cuda.empty_cache()\n",
    "\n",
    "        for well in WELL_LIST:\n",
    "            lgr_dict, true_dict = {}, {}\n",
    "\n",
    "            data_LGR1 = torch.load(f'dataset/dP_LGR1/{slope}_{idx}_LGR1_{well}_DP.pt')\n",
    "            I1, I2 = GRID_IDX_DICT[well]['LGR1']['I1']-1-15, GRID_IDX_DICT[well]['LGR1']['I2']+15\n",
    "            J1, J2 = GRID_IDX_DICT[well]['LGR1']['J1']-1-15, GRID_IDX_DICT[well]['LGR1']['J2']+15\n",
    "            coarse = np.repeat(PRED['GLOBAL'][0,...][:,I1:I2,J1:J2,:,:],5,axis=-2).permute(-1,1,2,3,0)[...,None]\n",
    "            x_LGR1 = torch.cat((data_LGR1['input'][...,:-1],coarse),axis=-1)\n",
    "            x_LGR1 = x_LGR1.permute(0,4,1,2,3,5).to(device)\n",
    "            x_LGR1[...,-1:] = NORMALIZER_DICT['input']['LGR1'].encode(x_LGR1.to(device)[...,-1:])\n",
    "            pred = NORMALIZER_DICT['output']['LGR1'].decode(MODEL_DICT['LGR1'](x_LGR1)).cpu()\n",
    "            lgr_dict['LGR1'] = pred\n",
    "            y = data_LGR1['output'][...,:1].permute(0,4,1,2,3,5)\n",
    "            true_dict['LGR1'] = y\n",
    "\n",
    "            print('LGR1')\n",
    "            torch.cuda.empty_cache()\n",
    "            print_gpu_memory_usage()\n",
    "\n",
    "            data_LGR2 = torch.load(f'dataset/dP_LGR2/{slope}_{idx}_LGR2_{well}_DP.pt')\n",
    "            coarse = np.repeat(lgr_dict['LGR1'][0,...],2,axis=-2).permute(-1,1,2,3,0)[...,None]\n",
    "            x_LGR2 = torch.cat((data_LGR2['input'][...,:-1],coarse),axis=-1)\n",
    "            x_LGR2 = x_LGR2.permute(0,4,1,2,3,5).to(device)\n",
    "            x_LGR2[...,-1:] = NORMALIZER_DICT['input']['LGR2'].encode(x_LGR2.to(device)[...,-1:])\n",
    "            pred = NORMALIZER_DICT['output']['LGR2'].decode(MODEL_DICT['LGR2'](x_LGR2)).cpu()\n",
    "            lgr_dict['LGR2'] = pred\n",
    "            y = data_LGR2['output'][...,:1].permute(0,4,1,2,3,5)\n",
    "            true_dict['LGR2'] = y\n",
    "\n",
    "            print('LGR2')\n",
    "            torch.cuda.empty_cache()\n",
    "            print_gpu_memory_usage()\n",
    "\n",
    "            data_LGR3 = torch.load(f'dataset/dP_LGR3/{slope}_{idx}_LGR3_{well}_DP.pt')\n",
    "            coarse = lgr_dict['LGR2'][0,...].permute(-1,1,2,3,0)[...,None]\n",
    "            x_LGR3 = torch.cat((data_LGR3['input'][...,:-1],coarse),axis=-1)\n",
    "            x_LGR3 = x_LGR3.permute(0,4,1,2,3,5).to(device)\n",
    "            x_LGR3[...,-1:] = NORMALIZER_DICT['input']['LGR3'].encode(x_LGR3.to(device)[...,-1:])\n",
    "            pred = NORMALIZER_DICT['output']['LGR3'].decode(MODEL_DICT['LGR3'](x_LGR3)).cpu()\n",
    "            lgr_dict['LGR3'] = pred\n",
    "            y = data_LGR3['output'][...,:1].permute(0,4,1,2,3,5)\n",
    "            true_dict['LGR3'] = y\n",
    "\n",
    "            print('LGR3')\n",
    "            torch.cuda.empty_cache()\n",
    "            print_gpu_memory_usage()\n",
    "\n",
    "            data_LGR4 = torch.load(f'dataset/dP_LGR4/{slope}_{idx}_LGR4_{well}_DP.pt')\n",
    "            coarse = lgr_dict['LGR3'][0,...].permute(-1,1,2,3,0)[...,None]\n",
    "            x = data_LGR4['input']\n",
    "            x_LGR4 = torch.cat((x[...,:-1],coarse),axis=-1)\n",
    "            x_LGR4 = x_LGR4.permute(0,4,1,2,3,5).to(device)\n",
    "            x_LGR4[...,-1:] = NORMALIZER_DICT['input']['LGR4'].encode(x_LGR4.to(device)[...,-1:])\n",
    "            pred = NORMALIZER_DICT['output']['LGR4'].decode(MODEL_DICT['LGR4'](x_LGR4)).cpu()\n",
    "            lgr_dict['LGR4'] = pred\n",
    "            y = data_LGR4['output'][...,:1].permute(0,4,1,2,3,5)\n",
    "            true_dict['LGR4'] = y\n",
    "\n",
    "            print('LGR4')\n",
    "            torch.cuda.empty_cache()\n",
    "            print_gpu_memory_usage()\n",
    "\n",
    "            PRED[well] = lgr_dict\n",
    "            TRUE[well] = true_dict\n",
    "\n",
    "        plot_z_comparison()\n",
    "        plot_x_comparison()\n"
   ]
  },
  {
   "cell_type": "code",
   "execution_count": 11,
   "id": "eb4b6be9",
   "metadata": {},
   "outputs": [
    {
     "name": "stdout",
     "output_type": "stream",
     "text": [
      "Fri Mar 17 15:42:29 2023       \r\n",
      "+---------------------------------------------------------------------------------------+\r\n",
      "| NVIDIA-SMI 530.30.02              Driver Version: 530.30.02    CUDA Version: 12.1     |\r\n",
      "|-----------------------------------------+----------------------+----------------------+\r\n",
      "| GPU  Name                  Persistence-M| Bus-Id        Disp.A | Volatile Uncorr. ECC |\r\n",
      "| Fan  Temp  Perf            Pwr:Usage/Cap|         Memory-Usage | GPU-Util  Compute M. |\r\n",
      "|                                         |                      |               MIG M. |\r\n",
      "|=========================================+======================+======================|\r\n",
      "|   0  NVIDIA A100-SXM4-80GB           On | 00000000:84:00.0 Off |                    0 |\r\n",
      "| N/A   32C    P0               68W / 400W|   7589MiB / 81920MiB |      0%   E. Process |\r\n",
      "|                                         |                      |             Disabled |\r\n",
      "+-----------------------------------------+----------------------+----------------------+\r\n",
      "                                                                                         \r\n",
      "+---------------------------------------------------------------------------------------+\r\n",
      "| Processes:                                                                            |\r\n",
      "|  GPU   GI   CI        PID   Type   Process name                            GPU Memory |\r\n",
      "|        ID   ID                                                             Usage      |\r\n",
      "|=======================================================================================|\r\n",
      "|    0   N/A  N/A     68734      C   ...ser/open/python/3.9.0/bin/python3.9     7586MiB |\r\n",
      "+---------------------------------------------------------------------------------------+\r\n"
     ]
    }
   ],
   "source": [
    "! nvidia-smi"
   ]
  },
  {
   "cell_type": "code",
   "execution_count": null,
   "id": "5aba7388",
   "metadata": {},
   "outputs": [],
   "source": [
    "# Change to\n",
    "with torch.autocast(device_type='cuda', dtype=torch.float16):\n",
    "    with torch.no_grad():\n",
    "        output = fno(input)"
   ]
  }
 ],
 "metadata": {
  "kernelspec": {
   "display_name": "Python 3",
   "language": "python",
   "name": "python3"
  },
  "language_info": {
   "codemirror_mode": {
    "name": "ipython",
    "version": 3
   },
   "file_extension": ".py",
   "mimetype": "text/x-python",
   "name": "python",
   "nbconvert_exporter": "python",
   "pygments_lexer": "ipython3",
   "version": "3.9.0"
  }
 },
 "nbformat": 4,
 "nbformat_minor": 5
}
